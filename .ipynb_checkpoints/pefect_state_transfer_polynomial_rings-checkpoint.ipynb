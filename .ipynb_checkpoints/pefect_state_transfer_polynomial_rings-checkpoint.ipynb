{
 "cells": [
  {
   "cell_type": "markdown",
   "metadata": {},
   "source": [
    "# About this notebook \n",
    "\n",
    "This notebook contains various functions that allow us to perform calculations with gcd-graphs over a ring, which is a quotient of a polynomial ring in $n$ variables. Specifically, we work with **local** Frobenius rings of the form $R = S/g_I$, where $F$ is a finite field, $S = F[x_1, x_2, \\ldots, x_n]$ is the polynomial ring in $n$ variables, and $g_I$ is a set of generators in $S$."
   ]
  },
  {
   "cell_type": "markdown",
   "metadata": {},
   "source": [
    "Due to its implementation, SageMath does not allow iteration over a ring of this form even when it is finite. Thanks to the help of Dr. Ricardo Buring, we overcame this problem by working with Gröbner bases. Details about how this works in practice can be found in the following thread:\n",
    "\n",
    "https://ask.sagemath.org/question/81183/iterate-over-a-finite-quotient-of-a-multivariate-polynomial-ring/"
   ]
  },
  {
   "cell_type": "markdown",
   "metadata": {},
   "source": [
    "With this indirect method, we can do calculations on $R$. For example, we can get its elements via the function **get_elements**. The most important function in this notebook is **spectral_cluster**. \n"
   ]
  },
  {
   "cell_type": "markdown",
   "metadata": {},
   "source": [
    "This function takes a ring of the form described above and a set of principal ideals $D$, and returns a dictionary where the keys are eigenvalues of $G_{R}(D)$ and the values are the lists of elements in the orbit of $R$ under the action of $R^{\\times}$ (this is sufficient since it is known that $\\lambda_g = \\lambda_{g'}$ if $g$ and $g'$ are associates).\n"
   ]
  },
  {
   "cell_type": "code",
   "execution_count": 2,
   "metadata": {
    "collapsed": false,
    "jupyter": {
     "outputs_hidden": false
    }
   },
   "outputs": [],
   "source": [
    "import networkx as nx\n",
    "import matplotlib.pyplot as plt\n",
    "from networkx.algorithms import bipartite\n",
    "from sage.rings.finite_rings.integer_mod import IntegerMod\n",
    "R.<x> = PolynomialRing(ZZ)\n",
    "from sage.rings.polynomial.cyclotomic import cyclotomic_coeffs\n",
    "S = ZZ['x']\n",
    "from collections import OrderedDict\n"
   ]
  },
  {
   "cell_type": "code",
   "execution_count": 3,
   "metadata": {
    "collapsed": false,
    "jupyter": {
     "outputs_hidden": false
    }
   },
   "outputs": [],
   "source": [
    "# F is the base field, S: polynomial ring, g_I: generating set for I\n",
    "\n",
    "def get_elements(F,S, g_I):\n",
    "    I = S.ideal(g_I)\n",
    "    elements = set()\n",
    "    for C in cartesian_product([F]*I.vector_space_dimension()):\n",
    "        f = sum(c*m for c,m in zip(C, I.normal_basis()))\n",
    "        elements.add(f.reduce(I))\n",
    "    return elements \n",
    "    \n",
    "\n",
    "\n",
    "def is_unit(a,F, S, g_I):\n",
    "    R = get_elements(F,S,g_I)\n",
    "    I = S.ideal(g_I)\n",
    "    for b in R: \n",
    "        if (a*b).reduce(I) ==1:\n",
    "            return True\n",
    "    return False    \n",
    "\n",
    "def unit_group(F, S, g_I):\n",
    "    unit_set = set()\n",
    "    R = get_elements(F,S, g_I)\n",
    "    unit_set = set([a for a in R if is_unit(a,F,S, g_I)])\n",
    "    return unit_set \n",
    "\n",
    "def generating_set(F,S,g_I, D):\n",
    "    g_set = set()\n",
    "    R = get_elements(F,S,g_I)\n",
    "    units = unit_group(F,S,g_I)\n",
    "    I =S.ideal(g_I)\n",
    "    for d in D:\n",
    "        g_set = g_set | set([(d*u).reduce(I) for u in units])\n",
    "    return g_set\n",
    "\n",
    "def gcd_graph(F,S, g_I, D):\n",
    "    g_set = generating_set(F,S,g_I, D)\n",
    "    I = S.ideal(g_I)\n",
    "    elements = [a for a in R]\n",
    "    n = len(elements)\n",
    "    g=nx.empty_graph(n)\n",
    "    for i in range(n):\n",
    "        for j in range(n):\n",
    "            if (elements[i]-elements[j]).reduce(I) in g_set:\n",
    "                g.add_edge(i,j)\n",
    "    return g  \n",
    "\n",
    "def is_equivalent(a,b,F, S, I):\n",
    "    units = unit_group(F,S, g_I)\n",
    "    I = S.ideal(g_I)\n",
    "    for u in units:\n",
    "        if (u*a-b).reduce(I)==0:\n",
    "            return True\n",
    "    return False\n",
    "\n",
    "\n",
    "def abstract_gcd_graph(F, S, g_I, D):\n",
    "    R = get_elements(F,S,g_I)\n",
    "    I = S.ideal(g_I)\n",
    "    g_set = generating_set(F,S, g_I,D)\n",
    "    g=nx.empty_graph(R)\n",
    "    for i in R:\n",
    "        for j in R:\n",
    "            if (i-j).reduce(I) in g_set:\n",
    "                g.add_edge(i,j)\n",
    "    return g  \n",
    "\n",
    "def char_poly_gcd_graph(g):\n",
    "    adj_matrix = nx.adjacency_matrix(g).todense()\n",
    "    matrix_size = g.number_of_nodes()\n",
    "    matrix = adj_matrix\n",
    "    f = MatrixSpace(IntegerRing(),matrix_size)(matrix).charpoly()\n",
    "    return f.factor()\n",
    "\n",
    "def annihilator(a, F, S, g_I):\n",
    "    I = S.ideal(g_I)\n",
    "    R = get_elements(F,S, g_I)\n",
    "    ann = []\n",
    "    for b in R:\n",
    "        if (a*b).reduce(I) == 0:\n",
    "            ann.append(b)\n",
    "    return ann\n",
    "\n",
    "\n",
    "def orbits(F,S, g_I):\n",
    "    R = get_elements(F,S, g_I)\n",
    "    units = unit_group(F,S,g_I)\n",
    "    I = S.ideal(g_I)\n",
    "    \n",
    "    def get_exponents(h):\n",
    "        x = S.gens()[0]\n",
    "        if h == 0:\n",
    "            return -100 \n",
    "        i = 1\n",
    "        while ((x**i)*h).reduce(I)!=0:\n",
    "            i = i +1\n",
    "        return -i\n",
    "    \n",
    "    def is_equivalent_sub(a,b):\n",
    "        for u in units:\n",
    "            if (u*a-b).reduce(I)==0:\n",
    "                return True\n",
    "        return False\n",
    "    \n",
    "    equiv_class = []\n",
    "    for r in R:\n",
    "        found = False \n",
    "        for k in equiv_class: \n",
    "            if is_equivalent_sub(r,k):\n",
    "                found = True \n",
    "                break \n",
    "        if not found:\n",
    "            equiv_class.append(r)\n",
    "    if S.gens()[1] in g_I:\n",
    "            equiv_class.sort(key = get_exponents)\n",
    "    return equiv_class\n",
    "\n",
    "def euler_function(a, F, S, g_I):\n",
    "    ann = annihilator(a,F, S, g_I)\n",
    "    new_I = g_I + ann \n",
    "    new_unit_R = unit_group(F, S, new_I)\n",
    "    return len(new_unit_R)\n",
    "\n",
    "def mu_function(a, F, S, g_I):\n",
    "    ann = annihilator(a,F, S, g_I)\n",
    "    new_I = g_I + ann \n",
    "    new_R = get_elements(F, S, new_I)\n",
    "    new_unit_R = unit_group(F, S, new_I)\n",
    "    if len(new_R) == len(new_unit_R)+1:\n",
    "        return -1\n",
    "    else:\n",
    "        return 0 \n",
    "    \n",
    "def ramanujan_sum(F,S, g_I, xi=None):\n",
    "    R = get_elements(F,S, g_I)\n",
    "    I = S.ideal(g_I) \n",
    "    units = unit_group(F,S,g_I)\n",
    "\n",
    "    def get_exponents(h):\n",
    "        x = S.gens()[0]\n",
    "        if h == 0:\n",
    "            return -100 \n",
    "        i = 1\n",
    "        while ((x**i)*h).reduce(I)!=0:\n",
    "            i = i +1\n",
    "        return -i \n",
    "            \n",
    "    def orbits_subf():\n",
    "        def is_equivalent_sub(a,b):\n",
    "            for u in units:\n",
    "                if (u*a-b).reduce(I)==0:\n",
    "                    return True\n",
    "            return False\n",
    "            \n",
    "        equiv_class = []\n",
    "        for r in R:\n",
    "            found = False \n",
    "            for k in equiv_class: \n",
    "                if is_equivalent_sub(r,k):\n",
    "                    found = True \n",
    "                    break \n",
    "            if not found:\n",
    "                equiv_class.append(r)\n",
    "        if S.gens()[1] in g_I:\n",
    "            equiv_class.sort(key = get_exponents)\n",
    "        return equiv_class\n",
    "        \n",
    "    def annihilator_subf(a):\n",
    "        ann = []\n",
    "        for b in R:\n",
    "            if (a*b).reduce(I) == 0:\n",
    "                ann.append(b)\n",
    "        return ann\n",
    "    def get_quotient(a):\n",
    "        ann = annihilator_subf(a)\n",
    "        new_I = g_I + ann\n",
    "        new_R = get_elements(F, S, new_I)\n",
    "        new_unit_R = len(unit_group(F, S, new_I)) \n",
    "        return new_R, new_unit_R\n",
    "        \n",
    "    def euler_and_mu(a):\n",
    "        if a == 0:\n",
    "            return 1, 1 \n",
    "        new_R, no_units = get_quotient(a)\n",
    "        if len(new_R) == no_units + 1:\n",
    "            return no_units, -1\n",
    "        else:\n",
    "            return no_units, 0 \n",
    "    orbit_set = orbits_subf()\n",
    "    N = len(orbit_set)\n",
    "    A = matrix.identity(N)\n",
    "    for i in range(N):\n",
    "        euler_1, mu_1 = euler_and_mu(orbit_set[i])\n",
    "        for j in range(N):\n",
    "            euler_2, mu_2 = euler_and_mu((orbit_set[i]*orbit_set[j]).reduce(I))\n",
    "            A[i,j] = (euler_1*mu_2)//euler_2 \n",
    "    return A \n",
    "\n",
    "\n",
    "def count_terms(f):\n",
    "    if (0*x+f).is_constant():\n",
    "        return 0, 0 \n",
    "    return len(f.dict()), f.degree(), f\n",
    "\n",
    "def is_local(F, S, g_I):\n",
    "    R = get_elements(F, S, g_I)\n",
    "    I = S.ideal(g_I) \n",
    "    idempotents = []\n",
    "    for item in R:\n",
    "        if (item !=0) and (item !=1) and (item**2-item).reduce(I)==0:\n",
    "            idempotents.append(item)\n",
    "    return idempotents ==[]\n",
    "\n",
    "def is_multiple(a,b, F, S, g_I):\n",
    "    R =get_elements(F, S, g_I)\n",
    "    I = S.ideal(g_I)\n",
    "    for u in R:\n",
    "        if (a-b*u).reduce(I) == 0:\n",
    "            return True\n",
    "    return False\n",
    "\n",
    "def is_local_frobenius(F, S, g_I):\n",
    "    R =get_elements(F, S, g_I)\n",
    "    I = S.ideal(g_I)\n",
    "    units = unit_group(F,S, g_I)\n",
    "    def is_multiple(a,b):\n",
    "        for u in R:\n",
    "            if (a-b*u).reduce(I) == 0:\n",
    "                return True\n",
    "        return False \n",
    "    def is_minimal(a):\n",
    "        for b in R:\n",
    "            if (b !=0) and not is_multiple(a,b):\n",
    "                return False\n",
    "        return True\n",
    "    def is_local():\n",
    "        idempotents = []\n",
    "        for item in R:\n",
    "            if (item !=0) and (item !=1) and (item**2-item).reduce(I)==0:\n",
    "                idempotents.append(item)\n",
    "        return idempotents == [] \n",
    "    def is_equivalent_sub(a,b):\n",
    "        for u in units:\n",
    "            if (u*a-b).reduce(I)==0:\n",
    "                return True\n",
    "        return False\n",
    "        \n",
    "    minimal_list = []\n",
    "    if is_local:\n",
    "        minimal_list = [a for a in R if is_minimal(a) and a !=0]\n",
    "        if not minimal_list:\n",
    "            return False\n",
    "        for a in minimal_list:\n",
    "            for b in minimal_list:\n",
    "                if not is_equivalent_sub(a,b):\n",
    "                    return False \n",
    "        return True \n",
    "    return False \n",
    "\n",
    "def spectral_cluster(F,S,g_I,D):\n",
    "    R = get_elements(F,S, g_I)\n",
    "    I = S.ideal(g_I) \n",
    "    units = unit_group(F,S,g_I)\n",
    "            \n",
    "    def orbits_subf():\n",
    "        def is_equivalent_sub(a,b):\n",
    "            for u in units:\n",
    "                if (u*a-b).reduce(I)==0:\n",
    "                    return True\n",
    "            return False\n",
    "            \n",
    "        equiv_class = []\n",
    "        for r in R:\n",
    "            found = False \n",
    "            for k in equiv_class: \n",
    "                if is_equivalent_sub(r,k):\n",
    "                    found = True \n",
    "                    break \n",
    "            if not found:\n",
    "                equiv_class.append(r)\n",
    "        if S.gens()[1] in g_I:\n",
    "            equiv_class.sort(key = get_exponents)\n",
    "        return equiv_class\n",
    "        \n",
    "    def annihilator_subf(a):\n",
    "        ann = []\n",
    "        for b in R:\n",
    "            if (a*b).reduce(I) == 0:\n",
    "                ann.append(b)\n",
    "        return ann\n",
    "    def get_quotient(a):\n",
    "        ann = annihilator_subf(a)\n",
    "        new_I = g_I + ann\n",
    "        new_R = get_elements(F, S, new_I)\n",
    "        new_unit_R = len(unit_group(F, S, new_I)) \n",
    "        return new_R, new_unit_R\n",
    "        \n",
    "    def euler_and_mu(a):\n",
    "        if a == 0:\n",
    "            return 1, 1 \n",
    "        new_R, no_units = get_quotient(a)\n",
    "        if len(new_R) == no_units + 1:\n",
    "            return no_units, -1\n",
    "        else:\n",
    "            return no_units, 0 \n",
    "    orbit_set = orbits_subf()\n",
    "    N = len(orbit_set)\n",
    "    d = {}\n",
    "    D = [e for e in R if e in D]\n",
    "    values = {}\n",
    "    for h1 in D:\n",
    "        values[h1], _ = euler_and_mu(h1)\n",
    "    for r in orbit_set:\n",
    "        total = 0 \n",
    "        for h1 in D:\n",
    "            euler_2, mu_2 = euler_and_mu((h1*r).reduce(I))\n",
    "            total +=  (values[h1]*mu_2)//euler_2 \n",
    "        d[total] = d.get(total, []) + [r]\n",
    "    return d "
   ]
  },
  {
   "cell_type": "markdown",
   "metadata": {},
   "source": [
    "## Test the code for $\\mathbb{F}_2[x,y]/(x^2,y^2)$"
   ]
  },
  {
   "cell_type": "code",
   "execution_count": 4,
   "metadata": {},
   "outputs": [
    {
     "name": "stdout",
     "output_type": "stream",
     "text": [
      "{0, 1, x*y + x + y, x*y + x + y + 1, x*y + y, x*y + y + 1, x*y + x, x*y + x + 1, x*y, x*y + 1, x + y, x + y + 1, y, y + 1, x, x + 1}\n"
     ]
    }
   ],
   "source": [
    "F = GF(2)\n",
    "S = PolynomialRing(GF(2), 'x, y')\n",
    "x,y = S.gens()\n",
    "g_I = [x**2, y**2]\n",
    "R = get_elements(F, S, g_I)\n",
    "print(R)"
   ]
  },
  {
   "cell_type": "code",
   "execution_count": 5,
   "metadata": {},
   "outputs": [
    {
     "data": {
      "text/plain": [
       "True"
      ]
     },
     "execution_count": 5,
     "metadata": {},
     "output_type": "execute_result"
    }
   ],
   "source": [
    "is_unit(1+x,F,S, g_I)"
   ]
  },
  {
   "cell_type": "markdown",
   "metadata": {},
   "source": [
    "### Find the unit group"
   ]
  },
  {
   "cell_type": "code",
   "execution_count": 6,
   "metadata": {},
   "outputs": [
    {
     "data": {
      "text/plain": [
       "{1,\n",
       " y + 1,\n",
       " x + 1,\n",
       " x + y + 1,\n",
       " x*y + 1,\n",
       " x*y + y + 1,\n",
       " x*y + x + 1,\n",
       " x*y + x + y + 1}"
      ]
     },
     "execution_count": 6,
     "metadata": {},
     "output_type": "execute_result"
    }
   ],
   "source": [
    "unit_group(F,S,g_I)"
   ]
  },
  {
   "cell_type": "markdown",
   "metadata": {},
   "source": [
    "### For a set of principal ideals, find the generating set $S$"
   ]
  },
  {
   "cell_type": "code",
   "execution_count": 7,
   "metadata": {},
   "outputs": [
    {
     "data": {
      "text/plain": [
       "{1,\n",
       " y + 1,\n",
       " x,\n",
       " x + 1,\n",
       " x + y + 1,\n",
       " x*y + 1,\n",
       " x*y + y + 1,\n",
       " x*y + x,\n",
       " x*y + x + 1,\n",
       " x*y + x + y + 1}"
      ]
     },
     "execution_count": 7,
     "metadata": {},
     "output_type": "execute_result"
    }
   ],
   "source": [
    "D = [1,x]\n",
    "generating_set(F,S, g_I,D)"
   ]
  },
  {
   "cell_type": "markdown",
   "metadata": {},
   "source": [
    "### Find th orbit of $R$ under the action of $R^{\\times}$."
   ]
  },
  {
   "cell_type": "code",
   "execution_count": 8,
   "metadata": {},
   "outputs": [
    {
     "data": {
      "text/plain": [
       "[0, 1, x*y + x + y, x*y + y, x*y + x, x*y]"
      ]
     },
     "execution_count": 8,
     "metadata": {},
     "output_type": "execute_result"
    }
   ],
   "source": [
    "orbits(F, S, g_I)"
   ]
  },
  {
   "cell_type": "code",
   "execution_count": 9,
   "metadata": {},
   "outputs": [
    {
     "data": {
      "text/plain": [
       "[1, x]"
      ]
     },
     "execution_count": 9,
     "metadata": {},
     "output_type": "execute_result"
    }
   ],
   "source": [
    "new_D = [e for e in R if e in D]\n",
    "new_D"
   ]
  },
  {
   "cell_type": "markdown",
   "metadata": {},
   "source": [
    "### The graph $G_{R}(D)$ where $D=[1, x]$"
   ]
  },
  {
   "cell_type": "code",
   "execution_count": 10,
   "metadata": {},
   "outputs": [
    {
     "name": "stdout",
     "output_type": "stream",
     "text": [
      "(x - 10) * (x + 6) * (x - 2)^2 * (x + 2)^4 * x^8\n"
     ]
    },
    {
     "data": {
      "image/png": "[encoded data removed]",
      "text/plain": [
       "<Figure size 500x500 with 1 Axes>"
      ]
     },
     "metadata": {},
     "output_type": "display_data"
    }
   ],
   "source": [
    "plt.figure(figsize=(5,5))\n",
    "g = abstract_gcd_graph(F,S, g_I, D)\n",
    "pos = nx.circular_layout(g)\n",
    "nx.draw(g, pos=pos,\n",
    "       with_labels = True,\n",
    "        font_size = 10,\n",
    "       #node_size = 600,\n",
    "       #scale = 1,\n",
    "       node_color = '#6495ED')\n",
    "f = char_poly_gcd_graph(g)\n",
    "print(f)"
   ]
  },
  {
   "cell_type": "markdown",
   "metadata": {},
   "source": [
    "### The spectral cluster of $G_{R}(D)$ for $D=[1,x]$"
   ]
  },
  {
   "cell_type": "code",
   "execution_count": 11,
   "metadata": {},
   "outputs": [
    {
     "data": {
      "text/plain": [
       "{10: [0], 0: [1], -2: [x*y + x + y, x*y + y], 2: [x*y + x], -6: [x*y]}"
      ]
     },
     "execution_count": 11,
     "metadata": {},
     "output_type": "execute_result"
    }
   ],
   "source": [
    "spectral_cluster(F, S, g_I, D)"
   ]
  },
  {
   "cell_type": "markdown",
   "metadata": {},
   "source": [
    "# Test the code for $\\mathbb{F}_2[x,y]/(x^2,y^2)$"
   ]
  },
  {
   "cell_type": "code",
   "execution_count": 12,
   "metadata": {},
   "outputs": [
    {
     "name": "stdout",
     "output_type": "stream",
     "text": [
      "(x - 9) * (x + 7) * (x - 1)^6 * (x + 1)^8\n",
      "{9: [0], -1: [1], 1: [x*y + x, x*y + y, x*y + x + y], -7: [x*y]}\n"
     ]
    }
   ],
   "source": [
    "F = GF(2)\n",
    "S = PolynomialRing(GF(2), 'x, y')\n",
    "x,y = S.gens()\n",
    "g_I = [x**2, y**2]\n",
    "D = {1,x*y}\n",
    "g = abstract_gcd_graph(F,S, g_I, D)\n",
    "f = char_poly_gcd_graph(g)\n",
    "print(f)\n",
    "print(spectral_cluster(F,S,g_I,D))"
   ]
  },
  {
   "cell_type": "code",
   "execution_count": 13,
   "metadata": {},
   "outputs": [
    {
     "name": "stdout",
     "output_type": "stream",
     "text": [
      "(x - 11) * (x + 5) * (x - 3)^2 * (x + 1)^12\n",
      "{11: [0], -1: [1, x*y + y, x*y + x + y], 3: [x*y + x], -5: [x*y]}\n"
     ]
    }
   ],
   "source": [
    "F = GF(2)\n",
    "S = PolynomialRing(GF(2), 'x, y')\n",
    "x,y = S.gens()\n",
    "g_I = [x**2, y**2]\n",
    "D = {1,x, x*y}\n",
    "g = abstract_gcd_graph(F,S, g_I, D)\n",
    "f = char_poly_gcd_graph(g)\n",
    "print(f)\n",
    "print(spectral_cluster(F,S,g_I,D))"
   ]
  },
  {
   "cell_type": "code",
   "execution_count": 14,
   "metadata": {},
   "outputs": [
    {
     "name": "stdout",
     "output_type": "stream",
     "text": [
      "(x - 11) * (x + 5) * (x - 3)^2 * (x + 1)^12\n",
      "{11: [0], -1: [1, x*y + y, x*y + x + y], 3: [x*y + x], -5: [x*y]}\n"
     ]
    }
   ],
   "source": [
    "F = GF(2)\n",
    "S = PolynomialRing(GF(2), 'x, y')\n",
    "x,y = S.gens()\n",
    "g_I = [x**2, y**2]\n",
    "D = {1,x, x*y}\n",
    "g = abstract_gcd_graph(F,S, g_I, D)\n",
    "f = char_poly_gcd_graph(g)\n",
    "print(f)\n",
    "print(spectral_cluster(F,S,g_I,D))"
   ]
  },
  {
   "cell_type": "code",
   "execution_count": 15,
   "metadata": {},
   "outputs": [
    {
     "name": "stdout",
     "output_type": "stream",
     "text": [
      "(x - 42) * (x + 22) * (x - 10)^2 * (x + 6)^4 * (x - 2)^8 * (x + 2)^16 * x^32\n",
      "{42: [0], 0: [1], -22: [x*y^2], 2: [x*y + x, x*y^2 + x*y + y^2 + x], -2: [x*y^2 + x*y + y, x*y^2 + x*y + x + y], 10: [x*y^2 + x*y + y^2], -6: [y^2, x*y^2 + x*y]}\n"
     ]
    }
   ],
   "source": [
    "F = GF(2)\n",
    "S = PolynomialRing(GF(2), 'x, y')\n",
    "x,y = S.gens()\n",
    "g_I = [x^2, y^3]\n",
    "D = {1,x+y, x*y}\n",
    "R= get_elements(F,S,g_I)\n",
    "g = abstract_gcd_graph(F,S, g_I, D)\n",
    "f = char_poly_gcd_graph(g)\n",
    "print(f)\n",
    "print(spectral_cluster(F,S,g_I,D))"
   ]
  },
  {
   "cell_type": "code",
   "execution_count": 18,
   "metadata": {},
   "outputs": [
    {
     "name": "stdout",
     "output_type": "stream",
     "text": [
      "(x - 33) * (x + 31) * (x - 1)^30 * (x + 1)^32\n",
      "{33: [0], -1: [1], -31: [x*y^2], 1: [x*y + x, x*y^2 + x*y + y, x*y^2 + x*y + y^2 + x, x*y^2 + x*y + y^2, x*y^2 + x*y + x + y, y^2, x*y^2 + x*y]}\n"
     ]
    }
   ],
   "source": [
    "F = GF(2)\n",
    "S = PolynomialRing(GF(2), 'x, y')\n",
    "x,y = S.gens()\n",
    "g_I = [x^2, y^3]\n",
    "D = {1,x*y^2}\n",
    "R= get_elements(F,S,g_I)\n",
    "g = abstract_gcd_graph(F,S, g_I, D)\n",
    "f = char_poly_gcd_graph(g)\n",
    "print(f)\n",
    "print(spectral_cluster(F,S,g_I,D))"
   ]
  },
  {
   "cell_type": "code",
   "execution_count": 20,
   "metadata": {},
   "outputs": [
    {
     "name": "stdout",
     "output_type": "stream",
     "text": [
      "(x - 43) * (x + 21) * (x - 11)^2 * (x + 5)^4 * (x - 3)^8 * (x + 1)^48\n",
      "{43: [0], -1: [1, x*y^2 + x*y + y, x*y^2 + x*y + x + y], -21: [x*y^2], 3: [x*y + x, x*y^2 + x*y + y^2 + x], 11: [x*y^2 + x*y + y^2], -5: [y^2, x*y^2 + x*y]}\n"
     ]
    }
   ],
   "source": [
    "F = GF(2)\n",
    "S = PolynomialRing(GF(2), 'x, y')\n",
    "x,y = S.gens()\n",
    "g_I = [x^2, y^3]\n",
    "D = {1,x+y, x*y**2, x*y}\n",
    "R= get_elements(F,S,g_I)\n",
    "g = abstract_gcd_graph(F,S, g_I, D)\n",
    "f = char_poly_gcd_graph(g)\n",
    "print(f)\n",
    "print(spectral_cluster(F,S,g_I,D))"
   ]
  },
  {
   "cell_type": "code",
   "execution_count": 21,
   "metadata": {},
   "outputs": [
    {
     "name": "stdout",
     "output_type": "stream",
     "text": [
      "(x - 41) * (x + 23) * (x - 9)^2 * (x + 7)^4 * (x - 1)^24 * (x + 1)^32\n",
      "{41: [0], -1: [1], -23: [x*y^2], 1: [x*y + x, x*y^2 + x*y + y, x*y^2 + x*y + y^2 + x, x*y^2 + x*y + x + y], 9: [x*y^2 + x*y + y^2], -7: [y^2, x*y^2 + x*y]}\n"
     ]
    }
   ],
   "source": [
    "F = GF(2)\n",
    "S = PolynomialRing(GF(2), 'x, y')\n",
    "x,y = S.gens()\n",
    "g_I = [x^2, y^3]\n",
    "D = {1,x+y, x*y**2}\n",
    "R= get_elements(F,S,g_I)\n",
    "g = abstract_gcd_graph(F,S, g_I, D)\n",
    "f = char_poly_gcd_graph(g)\n",
    "print(f)\n",
    "print(spectral_cluster(F,S,g_I,D))"
   ]
  },
  {
   "cell_type": "code",
   "execution_count": 22,
   "metadata": {},
   "outputs": [
    {
     "data": {
      "text/plain": [
       "8"
      ]
     },
     "execution_count": 22,
     "metadata": {},
     "output_type": "execute_result"
    }
   ],
   "source": [
    "euler_function(x+y, F, S, g_I)"
   ]
  },
  {
   "cell_type": "code",
   "execution_count": 23,
   "metadata": {},
   "outputs": [
    {
     "data": {
      "text/plain": [
       "2"
      ]
     },
     "execution_count": 23,
     "metadata": {},
     "output_type": "execute_result"
    }
   ],
   "source": [
    "euler_function(x*y, F, S, g_I)"
   ]
  },
  {
   "cell_type": "code",
   "execution_count": 25,
   "metadata": {},
   "outputs": [
    {
     "name": "stdout",
     "output_type": "stream",
     "text": [
      "(x - 39) * (x + 25) * (x - 7)^2 * (x + 5)^4 * (x - 3)^12 * (x + 1)^44\n",
      "{39: [0], -1: [1, x*y^2 + x*y + y^2, x*y^2 + x*y + x + y, y^2], -25: [x*y^2], -5: [x*y + x], 3: [x*y^2 + x*y + y, x*y^2 + x*y + y^2 + x], 7: [x*y^2 + x*y]}\n"
     ]
    }
   ],
   "source": [
    "S = PolynomialRing(GF(2), 'x, y')\n",
    "x,y = S.gens()\n",
    "g_I = [x^2, y^3]\n",
    "D = {1,y^2, y^2+x,x*y^2}\n",
    "R= get_elements(F,S,g_I)\n",
    "g = abstract_gcd_graph(F,S, g_I, D)\n",
    "f = char_poly_gcd_graph(g)\n",
    "print(f)\n",
    "print(spectral_cluster(F,S,g_I,D))"
   ]
  },
  {
   "cell_type": "code",
   "execution_count": 26,
   "metadata": {},
   "outputs": [
    {
     "name": "stdout",
     "output_type": "stream",
     "text": [
      "(x - 35) * (x + 29) * (x - 3)^14 * (x + 1)^48\n",
      "{35: [0], -1: [1, x*y + x, x*y^2 + x*y + y^2 + x, x*y^2 + x*y + x + y], -29: [x*y^2], 3: [x*y^2 + x*y + y, x*y^2 + x*y + y^2, y^2, x*y^2 + x*y]}\n"
     ]
    }
   ],
   "source": [
    "S = PolynomialRing(GF(2), 'x, y')\n",
    "x,y = S.gens()\n",
    "g_I = [x^2, y^3]\n",
    "D = {1,y^2, x*y**2}\n",
    "R= get_elements(F,S,g_I)\n",
    "g = abstract_gcd_graph(F,S, g_I, D)\n",
    "f = char_poly_gcd_graph(g)\n",
    "print(f)\n",
    "print(spectral_cluster(F,S,g_I,D))"
   ]
  },
  {
   "cell_type": "code",
   "execution_count": 27,
   "metadata": {},
   "outputs": [
    {
     "name": "stdout",
     "output_type": "stream",
     "text": [
      "(x - 40) * (x + 24) * (x - 8)^2 * (x + 8)^4 * x^56\n",
      "{40: [0], 0: [1, x*y + x, x*y^2 + x*y + y, x*y^2 + x*y + y^2 + x, x*y^2 + x*y + x + y], -24: [x*y^2], 8: [x*y^2 + x*y + y^2], -8: [y^2, x*y^2 + x*y]}\n"
     ]
    }
   ],
   "source": [
    "S = PolynomialRing(GF(2), 'x, y')\n",
    "x,y = S.gens()\n",
    "g_I = [x^2, y^3]\n",
    "D = {1,x+y}\n",
    "R= get_elements(F,S,g_I)\n",
    "g = abstract_gcd_graph(F,S, g_I, D)\n",
    "f = char_poly_gcd_graph(g)\n",
    "print(f)\n",
    "print(spectral_cluster(F,S,g_I,D))"
   ]
  },
  {
   "cell_type": "code",
   "execution_count": 28,
   "metadata": {},
   "outputs": [
    {
     "name": "stdout",
     "output_type": "stream",
     "text": [
      "(x - 34) * (x + 30) * (x - 2)^14 * (x + 2)^16 * x^32\n",
      "{34: [0], 0: [1], -30: [x*y^2], 2: [x*y + x, x*y^2 + x*y + y^2 + x, x*y^2 + x*y + y^2, y^2, x*y^2 + x*y], -2: [x*y^2 + x*y + y, x*y^2 + x*y + x + y]}\n"
     ]
    }
   ],
   "source": [
    "S = PolynomialRing(GF(2), 'x, y')\n",
    "x,y = S.gens()\n",
    "g_I = [x^2, y^3]\n",
    "D = {1,x*y}\n",
    "R= get_elements(F,S,g_I)\n",
    "g = abstract_gcd_graph(F,S, g_I, D)\n",
    "f = char_poly_gcd_graph(g)\n",
    "print(f)\n",
    "print(spectral_cluster(F,S,g_I,D))"
   ]
  },
  {
   "cell_type": "code",
   "execution_count": 5,
   "metadata": {},
   "outputs": [
    {
     "name": "stdout",
     "output_type": "stream",
     "text": [
      "(x - 34) * (x + 30) * (x - 2)^14 * (x + 2)^16 * x^32\n",
      "{34: [0], 0: [1], 2: [x*y, x*y^2 + y^2, y^2 + y, x*y^2 + x*y + y^2], -30: [x*y^2], -2: [y^2 + x + y, x*y^2 + x*y + y^2 + x, x]}\n"
     ]
    }
   ],
   "source": [
    "S = PolynomialRing(GF(2), 'x, y')\n",
    "x,y = S.gens()\n",
    "g_I = [x^2, y^3]\n",
    "D = {1,y**2}\n",
    "R= get_elements(F,S,g_I)\n",
    "g = abstract_gcd_graph(F,S, g_I, D)\n",
    "f = char_poly_gcd_graph(g)\n",
    "print(f)\n",
    "print(spectral_cluster(F,S,g_I,D))"
   ]
  },
  {
   "cell_type": "code",
   "execution_count": 6,
   "metadata": {},
   "outputs": [
    {
     "name": "stdout",
     "output_type": "stream",
     "text": [
      "(x - 38) * (x + 26) * (x - 6)^2 * (x + 6)^4 * (x - 2)^12 * (x + 2)^12 * x^32\n",
      "{38: [0], 0: [1], 6: [x*y], -26: [x*y^2], -2: [x*y^2 + y^2, y^2 + x + y, x*y^2 + x*y + y^2], 2: [x*y^2 + x*y + y^2 + x, y^2 + y], -6: [x]}\n"
     ]
    }
   ],
   "source": [
    "S = PolynomialRing(GF(2), 'x, y')\n",
    "x,y = S.gens()\n",
    "g_I = [x^2, y^3]\n",
    "D = {1,y**2+x, y**2}\n",
    "R= get_elements(F,S,g_I)\n",
    "g = abstract_gcd_graph(F,S, g_I, D)\n",
    "f = char_poly_gcd_graph(g)\n",
    "print(f)\n",
    "print(spectral_cluster(F,S,g_I,D))"
   ]
  },
  {
   "cell_type": "code",
   "execution_count": 7,
   "metadata": {},
   "outputs": [
    {
     "name": "stdout",
     "output_type": "stream",
     "text": [
      "(x - 39) * (x + 25) * (x - 7)^2 * (x + 5)^4 * (x - 3)^12 * (x + 1)^44\n",
      "{39: [0], -1: [1, x*y^2 + y^2, y^2 + x + y, x*y^2 + x*y + y^2], 7: [x*y], -25: [x*y^2], 3: [x*y^2 + x*y + y^2 + x, y^2 + y], -5: [x]}\n"
     ]
    }
   ],
   "source": [
    "S = PolynomialRing(GF(2), 'x, y')\n",
    "x,y = S.gens()\n",
    "g_I = [x^2, y^3]\n",
    "D = {1,y**2+x, y**2, x*y**2}\n",
    "R= get_elements(F,S,g_I)\n",
    "g = abstract_gcd_graph(F,S, g_I, D)\n",
    "f = char_poly_gcd_graph(g)\n",
    "print(f)\n",
    "print(spectral_cluster(F,S,g_I,D))"
   ]
  },
  {
   "cell_type": "code",
   "execution_count": 9,
   "metadata": {},
   "outputs": [
    {
     "name": "stdout",
     "output_type": "stream",
     "text": [
      "(x - 40) * (x + 24) * (x - 8)^2 * (x - 4)^4 * (x + 4)^12 * x^44\n",
      "{40: [0], 0: [1, x*y^2 + y^2, y^2 + y, x*y^2 + x*y + y^2], 8: [x*y], -24: [x*y^2], -4: [y^2 + x + y, x], 4: [x*y^2 + x*y + y^2 + x]}\n"
     ]
    }
   ],
   "source": [
    "S = PolynomialRing(GF(2), 'x, y')\n",
    "x,y = S.gens()\n",
    "g_I = [x^2, y^3]\n",
    "D = {1,y**2+x, y**2, x*y}\n",
    "R= get_elements(F,S,g_I)\n",
    "g = abstract_gcd_graph(F,S, g_I, D)\n",
    "f = char_poly_gcd_graph(g)\n",
    "print(f)\n",
    "print(spectral_cluster(F,S,g_I,D))"
   ]
  },
  {
   "cell_type": "code",
   "execution_count": 10,
   "metadata": {},
   "outputs": [
    {
     "name": "stdout",
     "output_type": "stream",
     "text": [
      "(x - 38) * (x + 26) * (x - 6)^6 * (x + 2)^24 * x^32\n",
      "{38: [0], 0: [1], 6: [x*y, x*y^2 + x*y + y^2 + x], -26: [x*y^2], -2: [x*y^2 + y^2, y^2 + x + y, x, y^2 + y, x*y^2 + x*y + y^2]}\n"
     ]
    }
   ],
   "source": [
    "S = PolynomialRing(GF(2), 'x, y')\n",
    "x,y = S.gens()\n",
    "g_I = [x^2, y^3]\n",
    "D = {1,y**2+x, x*y}\n",
    "R= get_elements(F,S,g_I)\n",
    "g = abstract_gcd_graph(F,S, g_I, D)\n",
    "f = char_poly_gcd_graph(g)\n",
    "print(f)\n",
    "print(spectral_cluster(F,S,g_I,D))"
   ]
  },
  {
   "cell_type": "code",
   "execution_count": 11,
   "metadata": {},
   "outputs": [
    {
     "name": "stdout",
     "output_type": "stream",
     "text": [
      "(x - 36) * (x + 28) * (x - 4)^6 * (x + 4)^8 * x^48\n",
      "{36: [0], 0: [1, x*y^2 + x*y + y^2 + x, x, y^2 + y], 4: [x*y, x*y^2 + y^2, x*y^2 + x*y + y^2], -28: [x*y^2], -4: [y^2 + x + y]}\n"
     ]
    }
   ],
   "source": [
    "S = PolynomialRing(GF(2), 'x, y')\n",
    "x,y = S.gens()\n",
    "g_I = [x^2, y^3]\n",
    "D = {1,y**2, x*y}\n",
    "R= get_elements(F,S,g_I)\n",
    "g = abstract_gcd_graph(F,S, g_I, D)\n",
    "f = char_poly_gcd_graph(g)\n",
    "print(f)\n",
    "print(spectral_cluster(F,S,g_I,D))"
   ]
  },
  {
   "cell_type": "code",
   "execution_count": 12,
   "metadata": {},
   "outputs": [
    {
     "name": "stdout",
     "output_type": "stream",
     "text": [
      "(x - 11) * (x + 5) * (x - 3)^2 * (x + 1)^12\n",
      "{11: [0], -1: [1, x^2 + x], 3: [x^3 + x^2], -5: [x^3]}\n"
     ]
    }
   ],
   "source": [
    "S = PolynomialRing(GF(2), 'x, y')\n",
    "x,y = S.gens()\n",
    "g_I = [x^4, y]\n",
    "D = {1,x**2, x**3}\n",
    "R= get_elements(F,S,g_I)\n",
    "g = abstract_gcd_graph(F,S, g_I, D)\n",
    "f = char_poly_gcd_graph(g)\n",
    "print(f)\n",
    "print(spectral_cluster(F,S,g_I,D))"
   ]
  },
  {
   "cell_type": "code",
   "execution_count": 13,
   "metadata": {},
   "outputs": [
    {
     "name": "stdout",
     "output_type": "stream",
     "text": [
      "(x - 35) * (x + 29) * (x - 3)^14 * (x + 1)^48\n",
      "{35: [0], -1: [1, y^2 + x + y, y^2 + y], 3: [x*y, x*y^2 + y^2, x*y^2 + x*y + y^2 + x, x, x*y^2 + x*y + y^2], -29: [x*y^2]}\n"
     ]
    }
   ],
   "source": [
    "S = PolynomialRing(GF(2), 'x, y')\n",
    "x,y = S.gens()\n",
    "g_I = [x^2, y^3]\n",
    "D = {1,x*y, x*y**2}\n",
    "R= get_elements(F,S,g_I)\n",
    "g = abstract_gcd_graph(F,S, g_I, D)\n",
    "f = char_poly_gcd_graph(g)\n",
    "print(f)\n",
    "print(spectral_cluster(F,S,g_I,D))"
   ]
  },
  {
   "cell_type": "code",
   "execution_count": 4,
   "metadata": {},
   "outputs": [
    {
     "name": "stdout",
     "output_type": "stream",
     "text": [
      "(x - 43) * (x + 21) * (x - 11)^2 * (x + 5)^4 * (x - 3)^8 * (x + 1)^48\n",
      "{43: [0], -1: [1, x*y^2 + x + y, x*y + y^2 + y], 3: [x*y + y^2 + x, x], -21: [x*y^2], -5: [x*y, y^2], 11: [x*y + y^2]}\n"
     ]
    }
   ],
   "source": [
    "S = PolynomialRing(GF(2), 'x, y')\n",
    "x,y = S.gens()\n",
    "g_I = [x^2, y^3]\n",
    "D = {1,x*y, x+y, x*y**2}\n",
    "R= get_elements(F,S,g_I)\n",
    "g = abstract_gcd_graph(F,S, g_I, D)\n",
    "f = char_poly_gcd_graph(g)\n",
    "print(f)\n",
    "print(spectral_cluster(F,S,g_I,D))"
   ]
  },
  {
   "cell_type": "code",
   "execution_count": 12,
   "metadata": {},
   "outputs": [
    {
     "name": "stdout",
     "output_type": "stream",
     "text": [
      "(x - 45) * (x + 19) * (x + 11)^2 * (x - 5)^6 * (x + 3)^6 * (x - 1)^16 * (x + 1)^32\n",
      "{45: [0], -1: [1], 1: [x*y^2 + x + y, x*y + y^2 + y], -3: [x*y + y^2 + x, x*y], -19: [x*y^2], 5: [x, x*y + y^2], -11: [y^2]}\n"
     ]
    }
   ],
   "source": [
    "S = PolynomialRing(GF(2), 'x, y')\n",
    "x,y = S.gens()\n",
    "g_I = [x^2, y^3]\n",
    "D = {1,x, x+y+y**2, x*y**2}\n",
    "R= get_elements(F,S,g_I)\n",
    "g = abstract_gcd_graph(F,S, g_I, D)\n",
    "f = char_poly_gcd_graph(g)\n",
    "print(f)\n",
    "print(spectral_cluster(F,S,g_I,D))"
   ]
  },
  {
   "cell_type": "code",
   "execution_count": 11,
   "metadata": {},
   "outputs": [
    {
     "data": {
      "text/plain": [
       "False"
      ]
     },
     "execution_count": 11,
     "metadata": {},
     "output_type": "execute_result"
    }
   ],
   "source": [
    "is_equivalent(x, x+y+y**2, F, S,g_I)"
   ]
  },
  {
   "cell_type": "code",
   "execution_count": 13,
   "metadata": {},
   "outputs": [
    {
     "name": "stdout",
     "output_type": "stream",
     "text": [
      "(x - 13) * (x + 3)^3 * (x - 1)^4 * (x + 1)^8\n",
      "{13: [0], -1: [1], 1: [x^3 + x^2 + x], -3: [x^3 + x^2, x^3]}\n"
     ]
    }
   ],
   "source": [
    "S = PolynomialRing(GF(2), 'x, y')\n",
    "x,y = S.gens()\n",
    "g_I = [x^4, y]\n",
    "D = {1,x, x^3}\n",
    "R= get_elements(F,S,g_I)\n",
    "g = abstract_gcd_graph(F,S, g_I, D)\n",
    "f = char_poly_gcd_graph(g)\n",
    "print(f)\n",
    "print(spectral_cluster(F,S,g_I,D))"
   ]
  },
  {
   "cell_type": "code",
   "execution_count": 14,
   "metadata": {},
   "outputs": [
    {
     "name": "stdout",
     "output_type": "stream",
     "text": [
      "(x - 45) * (x + 19) * (x + 11)^2 * (x - 5)^6 * (x + 3)^6 * (x - 1)^16 * (x + 1)^32\n",
      "{45: [0], -1: [1], 1: [x*y^2 + x + y, x*y + y^2 + y], -3: [x*y + y^2 + x, x*y], -19: [x*y^2], 5: [x, x*y + y^2], -11: [y^2]}\n"
     ]
    }
   ],
   "source": [
    "S = PolynomialRing(GF(2), 'x, y')\n",
    "x,y = S.gens()\n",
    "g_I = [x^2, y^3]\n",
    "D = {1,x, x+y+y**2, x*y**2}\n",
    "R= get_elements(F,S,g_I)\n",
    "g = abstract_gcd_graph(F,S, g_I, D)\n",
    "f = char_poly_gcd_graph(g)\n",
    "print(f)\n",
    "print(spectral_cluster(F,S,g_I,D))"
   ]
  },
  {
   "cell_type": "code",
   "execution_count": 15,
   "metadata": {},
   "outputs": [
    {
     "name": "stdout",
     "output_type": "stream",
     "text": [
      "(x - 45) * (x + 19) * (x + 11)^2 * (x - 5)^6 * (x + 3)^6 * (x - 1)^16 * (x + 1)^32\n",
      "{45: [0], -1: [1], 1: [x*y^2 + x + y, x*y + y^2 + y], -3: [x*y + y^2 + x, x*y], -19: [x*y^2], 5: [x, y^2], -11: [x*y + y^2]}\n"
     ]
    }
   ],
   "source": [
    "S = PolynomialRing(GF(2), 'x, y')\n",
    "x,y = S.gens()\n",
    "g_I = [x^2, y^3]\n",
    "D = {1,x, y, x*y**2}\n",
    "R= get_elements(F,S,g_I)\n",
    "g = abstract_gcd_graph(F,S, g_I, D)\n",
    "f = char_poly_gcd_graph(g)\n",
    "print(f)\n",
    "print(spectral_cluster(F,S,g_I,D))"
   ]
  },
  {
   "cell_type": "code",
   "execution_count": 16,
   "metadata": {},
   "outputs": [
    {
     "name": "stdout",
     "output_type": "stream",
     "text": [
      "(x - 39) * (x + 25) * (x - 7)^2 * (x + 5)^4 * (x - 3)^12 * (x + 1)^44\n",
      "{39: [0], -1: [1, x*y^2 + x + y, y^2, x*y + y^2], -5: [x*y + y^2 + x], 3: [x*y + y^2 + y, x], -25: [x*y^2], 7: [x*y]}\n"
     ]
    }
   ],
   "source": [
    "S = PolynomialRing(GF(2), 'x, y')\n",
    "x,y = S.gens()\n",
    "g_I = [x^2, y^3]\n",
    "D = {1,x, y**2, x*y**2}\n",
    "R= get_elements(F,S,g_I)\n",
    "g = abstract_gcd_graph(F,S, g_I, D)\n",
    "f = char_poly_gcd_graph(g)\n",
    "print(f)\n",
    "print(spectral_cluster(F,S,g_I,D))"
   ]
  },
  {
   "cell_type": "code",
   "execution_count": 17,
   "metadata": {},
   "outputs": [
    {
     "name": "stdout",
     "output_type": "stream",
     "text": [
      "(x - 38) * (x + 26) * (x - 6)^2 * (x + 6)^4 * (x - 2)^12 * (x + 2)^12 * x^32\n",
      "{38: [0], 0: [1], -2: [x*y^2 + x + y, y^2, x*y + y^2], -6: [x*y + y^2 + x], 2: [x*y + y^2 + y, x], -26: [x*y^2], 6: [x*y]}\n"
     ]
    }
   ],
   "source": [
    "S = PolynomialRing(GF(2), 'x, y')\n",
    "x,y = S.gens()\n",
    "g_I = [x^2, y^3]\n",
    "D = {1,x, y**2}\n",
    "R= get_elements(F,S,g_I)\n",
    "g = abstract_gcd_graph(F,S, g_I, D)\n",
    "f = char_poly_gcd_graph(g)\n",
    "print(f)\n",
    "print(spectral_cluster(F,S,g_I,D))"
   ]
  },
  {
   "cell_type": "code",
   "execution_count": 20,
   "metadata": {},
   "outputs": [
    {
     "name": "stdout",
     "output_type": "stream",
     "text": [
      "(x - 40) * (x + 24) * (x - 8)^2 * (x + 8)^4 * x^56\n",
      "{40: [0], 0: [1, x^2*y + x*y + y, x^2 + x*y + x, x^2 + x*y + y, x*y + x + y], -8: [x*y, x^2 + x*y], -24: [x^2*y], 8: [x^2]}\n"
     ]
    }
   ],
   "source": [
    "S = PolynomialRing(GF(2), 'x, y')\n",
    "x,y = S.gens()\n",
    "g_I = [x^3,y^2]\n",
    "D = {1,x}\n",
    "R= get_elements(F,S,g_I)\n",
    "g = abstract_gcd_graph(F,S, g_I, D)\n",
    "f = char_poly_gcd_graph(g)\n",
    "print(f)\n",
    "print(spectral_cluster(F,S,g_I,D))"
   ]
  },
  {
   "cell_type": "code",
   "execution_count": 23,
   "metadata": {},
   "outputs": [
    {
     "name": "stdout",
     "output_type": "stream",
     "text": [
      "(x - 6) * (x + 2)^3 * x^4\n",
      "{6: [0], 0: [1], -2: [x^2 + x, x^2]}\n"
     ]
    }
   ],
   "source": [
    "S = PolynomialRing(GF(2), 'x, y')\n",
    "x,y = S.gens()\n",
    "g_I = [x^3,y]\n",
    "D = {1,x}\n",
    "R= get_elements(F,S,g_I)\n",
    "g = abstract_gcd_graph(F,S, g_I, D)\n",
    "f = char_poly_gcd_graph(g)\n",
    "print(f)\n",
    "print(spectral_cluster(F,S,g_I,D))"
   ]
  },
  {
   "cell_type": "code",
   "execution_count": 6,
   "metadata": {},
   "outputs": [
    {
     "name": "stdout",
     "output_type": "stream",
     "text": [
      "(x - 9) * (x + 7) * (x - 1)^6 * (x + 1)^8\n",
      "{9: [0], -1: [1], 1: [x*y + x, x*y + y, x*y + x + y], -7: [x*y]}\n"
     ]
    }
   ],
   "source": [
    "S = PolynomialRing(GF(2), 'x, y')\n",
    "x,y = S.gens()\n",
    "g_I = [x^2,y^2]\n",
    "D = {1,x*y}\n",
    "R= get_elements(F,S,g_I)\n",
    "g = abstract_gcd_graph(F,S, g_I, D)\n",
    "f = char_poly_gcd_graph(g)\n",
    "print(f)\n",
    "print(spectral_cluster(F,S,g_I,D))"
   ]
  },
  {
   "cell_type": "code",
   "execution_count": 8,
   "metadata": {},
   "outputs": [
    {
     "name": "stdout",
     "output_type": "stream",
     "text": [
      "(x - 13) * (x + 3)^3 * (x - 1)^4 * (x + 1)^8\n",
      "{13: [0], -1: [1], 1: [x*y + x, x*y + y], -3: [x*y + x + y, x*y]}\n"
     ]
    }
   ],
   "source": [
    "S = PolynomialRing(GF(2), 'x, y')\n",
    "x,y = S.gens()\n",
    "g_I = [x^2,y^2]\n",
    "D = {1,x*y, x,y}\n",
    "R= get_elements(F,S,g_I)\n",
    "g = abstract_gcd_graph(F,S, g_I, D)\n",
    "f = char_poly_gcd_graph(g)\n",
    "print(f)\n",
    "print(spectral_cluster(F,S,g_I,D))"
   ]
  },
  {
   "cell_type": "code",
   "execution_count": 9,
   "metadata": {},
   "outputs": [
    {
     "name": "stdout",
     "output_type": "stream",
     "text": [
      "(x - 13) * (x + 3)^3 * (x - 1)^4 * (x + 1)^8\n",
      "{13: [0], -1: [1], 1: [x*y + x, x*y + x + y], -3: [x*y + y, x*y]}\n"
     ]
    }
   ],
   "source": [
    "S = PolynomialRing(GF(2), 'x, y')\n",
    "x,y = S.gens()\n",
    "g_I = [x^2,y^2]\n",
    "D = {1,x*y, x,x+y}\n",
    "R= get_elements(F,S,g_I)\n",
    "g = abstract_gcd_graph(F,S, g_I, D)\n",
    "f = char_poly_gcd_graph(g)\n",
    "print(f)\n",
    "print(spectral_cluster(F,S,g_I,D))"
   ]
  },
  {
   "cell_type": "code",
   "execution_count": 11,
   "metadata": {},
   "outputs": [
    {
     "name": "stdout",
     "output_type": "stream",
     "text": [
      "(x - 14) * (x + 2)^7 * x^8\n",
      "{14: [0], 0: [1], -2: [x*y + x, x*y + y, x*y + x + y, x*y]}\n"
     ]
    }
   ],
   "source": [
    "S = PolynomialRing(GF(2), 'x, y')\n",
    "x,y = S.gens()\n",
    "g_I = [x^2,y^2]\n",
    "D = {1,y, x,x+y}\n",
    "R= get_elements(F,S,g_I)\n",
    "g = abstract_gcd_graph(F,S, g_I, D)\n",
    "f = char_poly_gcd_graph(g)\n",
    "print(f)\n",
    "print(spectral_cluster(F,S,g_I,D))"
   ]
  },
  {
   "cell_type": "code",
   "execution_count": 12,
   "metadata": {},
   "outputs": [
    {
     "name": "stdout",
     "output_type": "stream",
     "text": [
      "(x - 12) * (x + 4)^3 * x^12\n",
      "{12: [0], 0: [1, x*y + y, x*y + x + y], -4: [x*y + x, x*y]}\n"
     ]
    }
   ],
   "source": [
    "S = PolynomialRing(GF(2), 'x, y')\n",
    "x,y = S.gens()\n",
    "g_I = [x^2,y^2]\n",
    "D = {1,y, x+y}\n",
    "R= get_elements(F,S,g_I)\n",
    "g = abstract_gcd_graph(F,S, g_I, D)\n",
    "f = char_poly_gcd_graph(g)\n",
    "print(f)\n",
    "print(spectral_cluster(F,S,g_I,D))"
   ]
  },
  {
   "cell_type": "code",
   "execution_count": 15,
   "metadata": {},
   "outputs": [
    {
     "name": "stdout",
     "output_type": "stream",
     "text": [
      "(x - 134) * (x + 122) * (x - 6)^14 * (x + 6)^16 * (x - 2)^48 * (x + 2)^48 * x^128\n",
      "{134: [0], 0: [1], 2: [x*z + z, x*z + y*z + x, x*y*z + x*y + y*z + x + y, x*y*z + x*y + z, x*y + x + y, x*y*z + x*y + x*z + x], -6: [x*y*z + x*y + y + z, x*y*z + x*y + x*z + y*z + y + z], -2: [x*y*z + x*y + x*z + y*z + x + y + z, x*y*z + x*y + x + z, x*y*z + x*y + y*z + y, x*y + y*z + x + y + z, x*y*z + x*y + x*z + y*z + x + z, x*y*z + x*y + x*z + y], 6: [x*z + y*z, x*y*z + x*y + y*z, x*y*z + x*y + x*z, x*y, x*y + x*z + y*z, y*z, x*z], -122: [x*y*z]}\n"
     ]
    }
   ],
   "source": [
    "S = PolynomialRing(GF(2), 'x, y, z')\n",
    "x,y,z = S.gens()\n",
    "g_I = [x^2,y^2, z^2]\n",
    "D = {1,y*x, x*z, x*z+z*y}\n",
    "R= get_elements(F,S,g_I)\n",
    "g = abstract_gcd_graph(F,S, g_I, D)\n",
    "f = char_poly_gcd_graph(g)\n",
    "print(f)\n",
    "print(spectral_cluster(F,S,g_I,D))"
   ]
  },
  {
   "cell_type": "code",
   "execution_count": 16,
   "metadata": {},
   "outputs": [
    {
     "name": "stdout",
     "output_type": "stream",
     "text": [
      "(x - 136) * (x + 120) * (x - 8)^14 * (x - 4)^16 * (x + 4)^48 * x^176\n",
      "{136: [0], 0: [1, x*z + y*z + x, x*y*z + x*y + y*z + x + y, x*y*z + x*y + y*z + y, x*y*z + x*y + x*z + y, x*y + x + y, x*y*z + x*y + x*z + x], 4: [x*z + z, x*y*z + x*y + z], -4: [x*y*z + x*y + y + z, x*y*z + x*y + x*z + y*z + x + y + z, x*y*z + x*y + x + z, x*y*z + x*y + x*z + y*z + y + z, x*y + y*z + x + y + z, x*y*z + x*y + x*z + y*z + x + z], 8: [x*z + y*z, x*y*z + x*y + y*z, x*y*z + x*y + x*z, x*y, x*y + x*z + y*z, y*z, x*z], -120: [x*y*z]}\n"
     ]
    }
   ],
   "source": [
    "x,y,z = S.gens()\n",
    "g_I = [x^2,y^2, z^2]\n",
    "D = {1,y*x, x*z, x*z+z*y, y*z}\n",
    "R= get_elements(F,S,g_I)\n",
    "g = abstract_gcd_graph(F,S, g_I, D)\n",
    "f = char_poly_gcd_graph(g)\n",
    "print(f)\n",
    "print(spectral_cluster(F,S,g_I,D))"
   ]
  },
  {
   "cell_type": "code",
   "execution_count": 18,
   "metadata": {},
   "outputs": [
    {
     "name": "stdout",
     "output_type": "stream",
     "text": [
      "(x - 8)^16 * (x + 8)^16 * x^224\n",
      "{8: [0, x*y*z + x*y + x*z + x, x*y*z + x*y + x*z, x*y, x*y*z, x*z], 0: [1, x*z + z, x*y*z + x*y + y + z, x*y*z + x*y + y*z + x + y, x*y*z + x*y + x*z + y*z + x + y + z, x*y*z + x*y + x + z, x*y*z + x*y + y*z + y, x*y*z + x*y + x*z + y*z + y + z, x*y + y*z + x + y + z, x*y*z + x*y + z, x*y*z + x*y + x*z + y*z + x + z, x*y*z + x*y + x*z + y, x*y + x + y], -8: [x*z + y*z + x, x*z + y*z, x*y*z + x*y + y*z, x*y + x*z + y*z, y*z]}\n"
     ]
    }
   ],
   "source": [
    "S = PolynomialRing(GF(2), 'x, y, z')\n",
    "x,y,z = S.gens()\n",
    "g_I = [x^2,y^2, z^2]\n",
    "D = {x}\n",
    "R= get_elements(F,S,g_I)\n",
    "g = abstract_gcd_graph(F,S, g_I, D)\n",
    "f = char_poly_gcd_graph(g)\n",
    "print(f)\n",
    "print(spectral_cluster(F,S,g_I,D))"
   ]
  },
  {
   "cell_type": "code",
   "execution_count": 21,
   "metadata": {},
   "outputs": [
    {
     "name": "stdout",
     "output_type": "stream",
     "text": [
      "(x - 132) * (x + 124) * (x - 4)^30 * (x + 4)^32 * x^192\n",
      "{132: [0], 0: [1, x*y*z + x*y + y + z, x*z + y*z + x, x*y*z + x*y + x + z, x*y*z + x*y + y*z + y, x*y*z + x*y + x*z + y*z + y + z, x*y*z + x*y + x*z + y*z + x + z, x*y*z + x*y + x*z + y, x*y*z + x*y + x*z + x], 4: [x*z + z, x*z + y*z, x*y*z + x*y + z, x*y*z + x*y + y*z, x*y*z + x*y + x*z, x*y, x*y + x*z + y*z, y*z, x*z], -4: [x*y*z + x*y + y*z + x + y, x*y*z + x*y + x*z + y*z + x + y + z, x*y + y*z + x + y + z, x*y + x + y], -124: [x*y*z]}\n"
     ]
    }
   ],
   "source": [
    "S = PolynomialRing(GF(2), 'x, y, z')\n",
    "x,y,z = S.gens()\n",
    "g_I = [x^2,y^2, z^2]\n",
    "D = {1,x*z, y*z}\n",
    "R= get_elements(F,S,g_I)\n",
    "g = abstract_gcd_graph(F,S, g_I, D)\n",
    "f = char_poly_gcd_graph(g)\n",
    "print(f)\n",
    "print(spectral_cluster(F,S,g_I,D))"
   ]
  },
  {
   "cell_type": "code",
   "execution_count": 22,
   "metadata": {},
   "outputs": [
    {
     "name": "stdout",
     "output_type": "stream",
     "text": [
      "(x - 133) * (x + 123) * (x - 5)^30 * (x + 3)^32 * (x - 1)^64 * (x + 1)^128\n",
      "{133: [0], -1: [1], 5: [x*z + z, x*z + y*z, x*y*z + x*y + z, x*y*z + x*y + y*z, x*y*z + x*y + x*z, x*y, x*y + x*z + y*z, y*z, x*z], 1: [x*y*z + x*y + y + z, x*z + y*z + x, x*y*z + x*y + x + z, x*y*z + x*y + y*z + y, x*y*z + x*y + x*z + y*z + y + z, x*y*z + x*y + x*z + y*z + x + z, x*y*z + x*y + x*z + y, x*y*z + x*y + x*z + x], -3: [x*y*z + x*y + y*z + x + y, x*y*z + x*y + x*z + y*z + x + y + z, x*y + y*z + x + y + z, x*y + x + y], -123: [x*y*z]}\n"
     ]
    }
   ],
   "source": [
    "S = PolynomialRing(GF(2), 'x, y, z')\n",
    "x,y,z = S.gens()\n",
    "g_I = [x^2,y^2, z^2]\n",
    "D = {1,x*z, y*z, x*y*z}\n",
    "R= get_elements(F,S,g_I)\n",
    "g = abstract_gcd_graph(F,S, g_I, D)\n",
    "f = char_poly_gcd_graph(g)\n",
    "print(f)\n",
    "print(spectral_cluster(F,S,g_I,D))"
   ]
  }
 ],
 "metadata": {
  "kernelspec": {
   "display_name": "SageMath 10.4",
   "language": "sage",
   "name": "sagemath-10.4"
  },
  "language_info": {
   "codemirror_mode": {
    "name": "ipython",
    "version": 3
   },
   "file_extension": ".py",
   "mimetype": "text/x-python",
   "name": "python",
   "nbconvert_exporter": "python",
   "pygments_lexer": "ipython3",
   "version": "3.12.4"
  }
 },
 "nbformat": 4,
 "nbformat_minor": 4
}
